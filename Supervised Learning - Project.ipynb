{
 "cells": [
  {
   "attachments": {},
   "cell_type": "markdown",
   "id": "3e985673",
   "metadata": {},
   "source": [
    "# Supervised Learning - Project"
   ]
  },
  {
   "attachments": {},
   "cell_type": "markdown",
   "id": "08aa509e",
   "metadata": {},
   "source": [
    "In this Project, we are going to perform a full supervised learning machine learning project on a \"Diabetes\" dataset. This dataset is originally from the National Institute of Diabetes and Digestive and Kidney\n",
    "Diseases. The objective of the dataset is to diagnostically predict whether a patient has diabetes,\n",
    "based on certain diagnostic measurements included in the dataset. \n",
    "\n",
    "[Kaggle Dataset](https://www.kaggle.com/datasets/akshaydattatraykhare/diabetes-dataset)"
   ]
  },
  {
   "attachments": {},
   "cell_type": "markdown",
   "id": "4e3e6a19",
   "metadata": {},
   "source": [
    "# Part I : EDA - Exploratory Data Analysis"
   ]
  },
  {
   "attachments": {},
   "cell_type": "markdown",
   "id": "0d46714a",
   "metadata": {},
   "source": [
    "For this task, you are required to conduct an exploratory data analysis on the diabetes dataset. You have the freedom to choose the visualizations you want to use, but your analysis should cover the following tasks mostly:\n",
    "\n",
    "- Are there any missing values in the dataset?\n",
    "- How are the predictor variables related to the outcome variable?\n",
    "- What is the correlation between the predictor variables?\n",
    "- What is the distribution of each predictor variable?\n",
    "- Are there any outliers in the predictor variables?\n",
    "- How are the predictor variables related to each other?\n",
    "- Is there any interaction effect between the predictor variables?\n",
    "- What is the average age of the individuals in the dataset?\n",
    "- What is the average glucose level for individuals with diabetes and without diabetes?\n",
    "- What is the average BMI for individuals with diabetes and without diabetes?\n",
    "- How does the distribution of the predictor variables differ for individuals with diabetes and without diabetes?\n",
    "- Are there any differences in the predictor variables between males and females (if gender information is available)?"
   ]
  },
  {
   "cell_type": "code",
   "execution_count": 2,
   "id": "3041e6a8",
   "metadata": {},
   "outputs": [],
   "source": [
    "import pandas as pd\n",
    "import numpy as np\n",
    "from sklearn.model_selection import train_test_split\n",
    "from sklearn.svm import SVC\n",
    "from sklearn.metrics import confusion_matrix"
   ]
  },
  {
   "cell_type": "code",
   "execution_count": 7,
   "id": "4817aa8e",
   "metadata": {},
   "outputs": [
    {
     "data": {
      "text/html": [
       "<div>\n",
       "<style scoped>\n",
       "    .dataframe tbody tr th:only-of-type {\n",
       "        vertical-align: middle;\n",
       "    }\n",
       "\n",
       "    .dataframe tbody tr th {\n",
       "        vertical-align: top;\n",
       "    }\n",
       "\n",
       "    .dataframe thead th {\n",
       "        text-align: right;\n",
       "    }\n",
       "</style>\n",
       "<table border=\"1\" class=\"dataframe\">\n",
       "  <thead>\n",
       "    <tr style=\"text-align: right;\">\n",
       "      <th></th>\n",
       "      <th>Pregnancies</th>\n",
       "      <th>Glucose</th>\n",
       "      <th>BloodPressure</th>\n",
       "      <th>SkinThickness</th>\n",
       "      <th>Insulin</th>\n",
       "      <th>BMI</th>\n",
       "      <th>DiabetesPedigreeFunction</th>\n",
       "      <th>Age</th>\n",
       "      <th>Outcome</th>\n",
       "    </tr>\n",
       "  </thead>\n",
       "  <tbody>\n",
       "    <tr>\n",
       "      <th>0</th>\n",
       "      <td>6</td>\n",
       "      <td>148</td>\n",
       "      <td>72</td>\n",
       "      <td>35</td>\n",
       "      <td>0</td>\n",
       "      <td>33.6</td>\n",
       "      <td>0.627</td>\n",
       "      <td>50</td>\n",
       "      <td>1</td>\n",
       "    </tr>\n",
       "    <tr>\n",
       "      <th>1</th>\n",
       "      <td>1</td>\n",
       "      <td>85</td>\n",
       "      <td>66</td>\n",
       "      <td>29</td>\n",
       "      <td>0</td>\n",
       "      <td>26.6</td>\n",
       "      <td>0.351</td>\n",
       "      <td>31</td>\n",
       "      <td>0</td>\n",
       "    </tr>\n",
       "    <tr>\n",
       "      <th>2</th>\n",
       "      <td>8</td>\n",
       "      <td>183</td>\n",
       "      <td>64</td>\n",
       "      <td>0</td>\n",
       "      <td>0</td>\n",
       "      <td>23.3</td>\n",
       "      <td>0.672</td>\n",
       "      <td>32</td>\n",
       "      <td>1</td>\n",
       "    </tr>\n",
       "    <tr>\n",
       "      <th>3</th>\n",
       "      <td>1</td>\n",
       "      <td>89</td>\n",
       "      <td>66</td>\n",
       "      <td>23</td>\n",
       "      <td>94</td>\n",
       "      <td>28.1</td>\n",
       "      <td>0.167</td>\n",
       "      <td>21</td>\n",
       "      <td>0</td>\n",
       "    </tr>\n",
       "    <tr>\n",
       "      <th>4</th>\n",
       "      <td>0</td>\n",
       "      <td>137</td>\n",
       "      <td>40</td>\n",
       "      <td>35</td>\n",
       "      <td>168</td>\n",
       "      <td>43.1</td>\n",
       "      <td>2.288</td>\n",
       "      <td>33</td>\n",
       "      <td>1</td>\n",
       "    </tr>\n",
       "  </tbody>\n",
       "</table>\n",
       "</div>"
      ],
      "text/plain": [
       "   Pregnancies  Glucose  BloodPressure  SkinThickness  Insulin   BMI  \\\n",
       "0            6      148             72             35        0  33.6   \n",
       "1            1       85             66             29        0  26.6   \n",
       "2            8      183             64              0        0  23.3   \n",
       "3            1       89             66             23       94  28.1   \n",
       "4            0      137             40             35      168  43.1   \n",
       "\n",
       "   DiabetesPedigreeFunction  Age  Outcome  \n",
       "0                     0.627   50        1  \n",
       "1                     0.351   31        0  \n",
       "2                     0.672   32        1  \n",
       "3                     0.167   21        0  \n",
       "4                     2.288   33        1  "
      ]
     },
     "execution_count": 7,
     "metadata": {},
     "output_type": "execute_result"
    }
   ],
   "source": [
    "diab = pd.read_csv('diabetes.csv')\n",
    "diab.head()"
   ]
  },
  {
   "cell_type": "code",
   "execution_count": 6,
   "id": "22b7ab1a",
   "metadata": {},
   "outputs": [
    {
     "data": {
      "text/plain": [
       "(768, 9)"
      ]
     },
     "execution_count": 6,
     "metadata": {},
     "output_type": "execute_result"
    }
   ],
   "source": [
    "diab.shape"
   ]
  },
  {
   "cell_type": "code",
   "execution_count": 8,
   "id": "5c2390dc",
   "metadata": {},
   "outputs": [
    {
     "data": {
      "text/plain": [
       "<bound method DataFrame.info of      Pregnancies  Glucose  BloodPressure  SkinThickness  Insulin   BMI  \\\n",
       "0              6      148             72             35        0  33.6   \n",
       "1              1       85             66             29        0  26.6   \n",
       "2              8      183             64              0        0  23.3   \n",
       "3              1       89             66             23       94  28.1   \n",
       "4              0      137             40             35      168  43.1   \n",
       "..           ...      ...            ...            ...      ...   ...   \n",
       "763           10      101             76             48      180  32.9   \n",
       "764            2      122             70             27        0  36.8   \n",
       "765            5      121             72             23      112  26.2   \n",
       "766            1      126             60              0        0  30.1   \n",
       "767            1       93             70             31        0  30.4   \n",
       "\n",
       "     DiabetesPedigreeFunction  Age  Outcome  \n",
       "0                       0.627   50        1  \n",
       "1                       0.351   31        0  \n",
       "2                       0.672   32        1  \n",
       "3                       0.167   21        0  \n",
       "4                       2.288   33        1  \n",
       "..                        ...  ...      ...  \n",
       "763                     0.171   63        0  \n",
       "764                     0.340   27        0  \n",
       "765                     0.245   30        0  \n",
       "766                     0.349   47        1  \n",
       "767                     0.315   23        0  \n",
       "\n",
       "[768 rows x 9 columns]>"
      ]
     },
     "execution_count": 8,
     "metadata": {},
     "output_type": "execute_result"
    }
   ],
   "source": [
    "diab.info"
   ]
  },
  {
   "cell_type": "code",
   "execution_count": 9,
   "id": "9d0f77be",
   "metadata": {},
   "outputs": [
    {
     "data": {
      "text/html": [
       "<div>\n",
       "<style scoped>\n",
       "    .dataframe tbody tr th:only-of-type {\n",
       "        vertical-align: middle;\n",
       "    }\n",
       "\n",
       "    .dataframe tbody tr th {\n",
       "        vertical-align: top;\n",
       "    }\n",
       "\n",
       "    .dataframe thead th {\n",
       "        text-align: right;\n",
       "    }\n",
       "</style>\n",
       "<table border=\"1\" class=\"dataframe\">\n",
       "  <thead>\n",
       "    <tr style=\"text-align: right;\">\n",
       "      <th></th>\n",
       "      <th>Pregnancies</th>\n",
       "      <th>Glucose</th>\n",
       "      <th>BloodPressure</th>\n",
       "      <th>SkinThickness</th>\n",
       "      <th>Insulin</th>\n",
       "      <th>BMI</th>\n",
       "      <th>DiabetesPedigreeFunction</th>\n",
       "      <th>Age</th>\n",
       "      <th>Outcome</th>\n",
       "    </tr>\n",
       "  </thead>\n",
       "  <tbody>\n",
       "    <tr>\n",
       "      <th>count</th>\n",
       "      <td>768.000000</td>\n",
       "      <td>768.000000</td>\n",
       "      <td>768.000000</td>\n",
       "      <td>768.000000</td>\n",
       "      <td>768.000000</td>\n",
       "      <td>768.000000</td>\n",
       "      <td>768.000000</td>\n",
       "      <td>768.000000</td>\n",
       "      <td>768.000000</td>\n",
       "    </tr>\n",
       "    <tr>\n",
       "      <th>mean</th>\n",
       "      <td>3.845052</td>\n",
       "      <td>120.894531</td>\n",
       "      <td>69.105469</td>\n",
       "      <td>20.536458</td>\n",
       "      <td>79.799479</td>\n",
       "      <td>31.992578</td>\n",
       "      <td>0.471876</td>\n",
       "      <td>33.240885</td>\n",
       "      <td>0.348958</td>\n",
       "    </tr>\n",
       "    <tr>\n",
       "      <th>std</th>\n",
       "      <td>3.369578</td>\n",
       "      <td>31.972618</td>\n",
       "      <td>19.355807</td>\n",
       "      <td>15.952218</td>\n",
       "      <td>115.244002</td>\n",
       "      <td>7.884160</td>\n",
       "      <td>0.331329</td>\n",
       "      <td>11.760232</td>\n",
       "      <td>0.476951</td>\n",
       "    </tr>\n",
       "    <tr>\n",
       "      <th>min</th>\n",
       "      <td>0.000000</td>\n",
       "      <td>0.000000</td>\n",
       "      <td>0.000000</td>\n",
       "      <td>0.000000</td>\n",
       "      <td>0.000000</td>\n",
       "      <td>0.000000</td>\n",
       "      <td>0.078000</td>\n",
       "      <td>21.000000</td>\n",
       "      <td>0.000000</td>\n",
       "    </tr>\n",
       "    <tr>\n",
       "      <th>25%</th>\n",
       "      <td>1.000000</td>\n",
       "      <td>99.000000</td>\n",
       "      <td>62.000000</td>\n",
       "      <td>0.000000</td>\n",
       "      <td>0.000000</td>\n",
       "      <td>27.300000</td>\n",
       "      <td>0.243750</td>\n",
       "      <td>24.000000</td>\n",
       "      <td>0.000000</td>\n",
       "    </tr>\n",
       "    <tr>\n",
       "      <th>50%</th>\n",
       "      <td>3.000000</td>\n",
       "      <td>117.000000</td>\n",
       "      <td>72.000000</td>\n",
       "      <td>23.000000</td>\n",
       "      <td>30.500000</td>\n",
       "      <td>32.000000</td>\n",
       "      <td>0.372500</td>\n",
       "      <td>29.000000</td>\n",
       "      <td>0.000000</td>\n",
       "    </tr>\n",
       "    <tr>\n",
       "      <th>75%</th>\n",
       "      <td>6.000000</td>\n",
       "      <td>140.250000</td>\n",
       "      <td>80.000000</td>\n",
       "      <td>32.000000</td>\n",
       "      <td>127.250000</td>\n",
       "      <td>36.600000</td>\n",
       "      <td>0.626250</td>\n",
       "      <td>41.000000</td>\n",
       "      <td>1.000000</td>\n",
       "    </tr>\n",
       "    <tr>\n",
       "      <th>max</th>\n",
       "      <td>17.000000</td>\n",
       "      <td>199.000000</td>\n",
       "      <td>122.000000</td>\n",
       "      <td>99.000000</td>\n",
       "      <td>846.000000</td>\n",
       "      <td>67.100000</td>\n",
       "      <td>2.420000</td>\n",
       "      <td>81.000000</td>\n",
       "      <td>1.000000</td>\n",
       "    </tr>\n",
       "  </tbody>\n",
       "</table>\n",
       "</div>"
      ],
      "text/plain": [
       "       Pregnancies     Glucose  BloodPressure  SkinThickness     Insulin  \\\n",
       "count   768.000000  768.000000     768.000000     768.000000  768.000000   \n",
       "mean      3.845052  120.894531      69.105469      20.536458   79.799479   \n",
       "std       3.369578   31.972618      19.355807      15.952218  115.244002   \n",
       "min       0.000000    0.000000       0.000000       0.000000    0.000000   \n",
       "25%       1.000000   99.000000      62.000000       0.000000    0.000000   \n",
       "50%       3.000000  117.000000      72.000000      23.000000   30.500000   \n",
       "75%       6.000000  140.250000      80.000000      32.000000  127.250000   \n",
       "max      17.000000  199.000000     122.000000      99.000000  846.000000   \n",
       "\n",
       "              BMI  DiabetesPedigreeFunction         Age     Outcome  \n",
       "count  768.000000                768.000000  768.000000  768.000000  \n",
       "mean    31.992578                  0.471876   33.240885    0.348958  \n",
       "std      7.884160                  0.331329   11.760232    0.476951  \n",
       "min      0.000000                  0.078000   21.000000    0.000000  \n",
       "25%     27.300000                  0.243750   24.000000    0.000000  \n",
       "50%     32.000000                  0.372500   29.000000    0.000000  \n",
       "75%     36.600000                  0.626250   41.000000    1.000000  \n",
       "max     67.100000                  2.420000   81.000000    1.000000  "
      ]
     },
     "execution_count": 9,
     "metadata": {},
     "output_type": "execute_result"
    }
   ],
   "source": [
    "diab.describe()"
   ]
  },
  {
   "cell_type": "code",
   "execution_count": null,
   "id": "3cb5ac7b",
   "metadata": {},
   "outputs": [],
   "source": []
  },
  {
   "cell_type": "code",
   "execution_count": 11,
   "id": "969e9218",
   "metadata": {},
   "outputs": [
    {
     "name": "stdout",
     "output_type": "stream",
     "text": [
      "Pregnancies                 111\n",
      "Glucose                       5\n",
      "BloodPressure                35\n",
      "SkinThickness               227\n",
      "Insulin                     374\n",
      "BMI                          11\n",
      "DiabetesPedigreeFunction      0\n",
      "Age                           0\n",
      "Outcome                     500\n",
      "dtype: int64\n"
     ]
    }
   ],
   "source": [
    "# Count the number of 0 values in each column\n",
    "zero_counts = (diab == 0).sum()\n",
    "\n",
    "# Print the counts\n",
    "print(zero_counts)"
   ]
  },
  {
   "cell_type": "code",
   "execution_count": 16,
   "id": "9719523d",
   "metadata": {},
   "outputs": [
    {
     "data": {
      "text/html": [
       "<div>\n",
       "<style scoped>\n",
       "    .dataframe tbody tr th:only-of-type {\n",
       "        vertical-align: middle;\n",
       "    }\n",
       "\n",
       "    .dataframe tbody tr th {\n",
       "        vertical-align: top;\n",
       "    }\n",
       "\n",
       "    .dataframe thead th {\n",
       "        text-align: right;\n",
       "    }\n",
       "</style>\n",
       "<table border=\"1\" class=\"dataframe\">\n",
       "  <thead>\n",
       "    <tr style=\"text-align: right;\">\n",
       "      <th></th>\n",
       "      <th>Pregnancies</th>\n",
       "      <th>Glucose</th>\n",
       "      <th>BloodPressure</th>\n",
       "      <th>SkinThickness</th>\n",
       "      <th>Insulin</th>\n",
       "      <th>BMI</th>\n",
       "      <th>DiabetesPedigreeFunction</th>\n",
       "      <th>Age</th>\n",
       "      <th>Outcome</th>\n",
       "    </tr>\n",
       "  </thead>\n",
       "  <tbody>\n",
       "    <tr>\n",
       "      <th>count</th>\n",
       "      <td>374.000000</td>\n",
       "      <td>374.000000</td>\n",
       "      <td>374.000000</td>\n",
       "      <td>374.000000</td>\n",
       "      <td>374.0</td>\n",
       "      <td>374.000000</td>\n",
       "      <td>374.000000</td>\n",
       "      <td>374.000000</td>\n",
       "      <td>374.000000</td>\n",
       "    </tr>\n",
       "    <tr>\n",
       "      <th>mean</th>\n",
       "      <td>4.433155</td>\n",
       "      <td>119.409091</td>\n",
       "      <td>67.473262</td>\n",
       "      <td>11.508021</td>\n",
       "      <td>0.0</td>\n",
       "      <td>30.943316</td>\n",
       "      <td>0.415340</td>\n",
       "      <td>35.796791</td>\n",
       "      <td>0.368984</td>\n",
       "    </tr>\n",
       "    <tr>\n",
       "      <th>std</th>\n",
       "      <td>3.437621</td>\n",
       "      <td>32.544233</td>\n",
       "      <td>24.522312</td>\n",
       "      <td>15.738605</td>\n",
       "      <td>0.0</td>\n",
       "      <td>8.419854</td>\n",
       "      <td>0.300547</td>\n",
       "      <td>12.729034</td>\n",
       "      <td>0.483176</td>\n",
       "    </tr>\n",
       "    <tr>\n",
       "      <th>min</th>\n",
       "      <td>0.000000</td>\n",
       "      <td>0.000000</td>\n",
       "      <td>0.000000</td>\n",
       "      <td>0.000000</td>\n",
       "      <td>0.0</td>\n",
       "      <td>0.000000</td>\n",
       "      <td>0.078000</td>\n",
       "      <td>21.000000</td>\n",
       "      <td>0.000000</td>\n",
       "    </tr>\n",
       "    <tr>\n",
       "      <th>25%</th>\n",
       "      <td>1.000000</td>\n",
       "      <td>99.250000</td>\n",
       "      <td>64.000000</td>\n",
       "      <td>0.000000</td>\n",
       "      <td>0.0</td>\n",
       "      <td>26.500000</td>\n",
       "      <td>0.209000</td>\n",
       "      <td>25.000000</td>\n",
       "      <td>0.000000</td>\n",
       "    </tr>\n",
       "    <tr>\n",
       "      <th>50%</th>\n",
       "      <td>4.000000</td>\n",
       "      <td>115.000000</td>\n",
       "      <td>72.000000</td>\n",
       "      <td>0.000000</td>\n",
       "      <td>0.0</td>\n",
       "      <td>31.200000</td>\n",
       "      <td>0.302500</td>\n",
       "      <td>32.000000</td>\n",
       "      <td>0.000000</td>\n",
       "    </tr>\n",
       "    <tr>\n",
       "      <th>75%</th>\n",
       "      <td>7.000000</td>\n",
       "      <td>138.000000</td>\n",
       "      <td>80.000000</td>\n",
       "      <td>26.750000</td>\n",
       "      <td>0.0</td>\n",
       "      <td>35.675000</td>\n",
       "      <td>0.553250</td>\n",
       "      <td>43.000000</td>\n",
       "      <td>1.000000</td>\n",
       "    </tr>\n",
       "    <tr>\n",
       "      <th>max</th>\n",
       "      <td>14.000000</td>\n",
       "      <td>199.000000</td>\n",
       "      <td>122.000000</td>\n",
       "      <td>99.000000</td>\n",
       "      <td>0.0</td>\n",
       "      <td>52.900000</td>\n",
       "      <td>1.893000</td>\n",
       "      <td>72.000000</td>\n",
       "      <td>1.000000</td>\n",
       "    </tr>\n",
       "  </tbody>\n",
       "</table>\n",
       "</div>"
      ],
      "text/plain": [
       "       Pregnancies     Glucose  BloodPressure  SkinThickness  Insulin  \\\n",
       "count   374.000000  374.000000     374.000000     374.000000    374.0   \n",
       "mean      4.433155  119.409091      67.473262      11.508021      0.0   \n",
       "std       3.437621   32.544233      24.522312      15.738605      0.0   \n",
       "min       0.000000    0.000000       0.000000       0.000000      0.0   \n",
       "25%       1.000000   99.250000      64.000000       0.000000      0.0   \n",
       "50%       4.000000  115.000000      72.000000       0.000000      0.0   \n",
       "75%       7.000000  138.000000      80.000000      26.750000      0.0   \n",
       "max      14.000000  199.000000     122.000000      99.000000      0.0   \n",
       "\n",
       "              BMI  DiabetesPedigreeFunction         Age     Outcome  \n",
       "count  374.000000                374.000000  374.000000  374.000000  \n",
       "mean    30.943316                  0.415340   35.796791    0.368984  \n",
       "std      8.419854                  0.300547   12.729034    0.483176  \n",
       "min      0.000000                  0.078000   21.000000    0.000000  \n",
       "25%     26.500000                  0.209000   25.000000    0.000000  \n",
       "50%     31.200000                  0.302500   32.000000    0.000000  \n",
       "75%     35.675000                  0.553250   43.000000    1.000000  \n",
       "max     52.900000                  1.893000   72.000000    1.000000  "
      ]
     },
     "execution_count": 16,
     "metadata": {},
     "output_type": "execute_result"
    }
   ],
   "source": [
    "# Many zero values that cannot be real. Glucose, BP, SkinThickness, Insulin, BMI, Age all cannot be zero in actuality.\n",
    "# Insulin is a critical variable in a dataset where diabetes status is the outcome variable.\n",
    "# Thus 374/768 (48.7%) NaN/0 values are a serious obstacle in gleaning meaningful results from this data as is. \n",
    "# 36.9% of the group with missing Insulin values are, in fact, diabetic.\n",
    "diab[diab['Insulin'] == 0].describe()"
   ]
  },
  {
   "cell_type": "code",
   "execution_count": 17,
   "id": "a36fcc27",
   "metadata": {},
   "outputs": [
    {
     "data": {
      "text/html": [
       "<div>\n",
       "<style scoped>\n",
       "    .dataframe tbody tr th:only-of-type {\n",
       "        vertical-align: middle;\n",
       "    }\n",
       "\n",
       "    .dataframe tbody tr th {\n",
       "        vertical-align: top;\n",
       "    }\n",
       "\n",
       "    .dataframe thead th {\n",
       "        text-align: right;\n",
       "    }\n",
       "</style>\n",
       "<table border=\"1\" class=\"dataframe\">\n",
       "  <thead>\n",
       "    <tr style=\"text-align: right;\">\n",
       "      <th></th>\n",
       "      <th>Pregnancies</th>\n",
       "      <th>Glucose</th>\n",
       "      <th>BloodPressure</th>\n",
       "      <th>SkinThickness</th>\n",
       "      <th>Insulin</th>\n",
       "      <th>BMI</th>\n",
       "      <th>DiabetesPedigreeFunction</th>\n",
       "      <th>Age</th>\n",
       "      <th>Outcome</th>\n",
       "    </tr>\n",
       "  </thead>\n",
       "  <tbody>\n",
       "    <tr>\n",
       "      <th>count</th>\n",
       "      <td>394.000000</td>\n",
       "      <td>394.000000</td>\n",
       "      <td>394.000000</td>\n",
       "      <td>394.000000</td>\n",
       "      <td>394.000000</td>\n",
       "      <td>394.000000</td>\n",
       "      <td>394.000000</td>\n",
       "      <td>394.000000</td>\n",
       "      <td>394.000000</td>\n",
       "    </tr>\n",
       "    <tr>\n",
       "      <th>mean</th>\n",
       "      <td>3.286802</td>\n",
       "      <td>122.304569</td>\n",
       "      <td>70.654822</td>\n",
       "      <td>29.106599</td>\n",
       "      <td>155.548223</td>\n",
       "      <td>32.988579</td>\n",
       "      <td>0.525543</td>\n",
       "      <td>30.814721</td>\n",
       "      <td>0.329949</td>\n",
       "    </tr>\n",
       "    <tr>\n",
       "      <th>std</th>\n",
       "      <td>3.209635</td>\n",
       "      <td>31.396725</td>\n",
       "      <td>12.469919</td>\n",
       "      <td>10.504273</td>\n",
       "      <td>118.775855</td>\n",
       "      <td>7.210160</td>\n",
       "      <td>0.350127</td>\n",
       "      <td>10.198971</td>\n",
       "      <td>0.470792</td>\n",
       "    </tr>\n",
       "    <tr>\n",
       "      <th>min</th>\n",
       "      <td>0.000000</td>\n",
       "      <td>0.000000</td>\n",
       "      <td>24.000000</td>\n",
       "      <td>7.000000</td>\n",
       "      <td>14.000000</td>\n",
       "      <td>0.000000</td>\n",
       "      <td>0.085000</td>\n",
       "      <td>21.000000</td>\n",
       "      <td>0.000000</td>\n",
       "    </tr>\n",
       "    <tr>\n",
       "      <th>25%</th>\n",
       "      <td>1.000000</td>\n",
       "      <td>99.000000</td>\n",
       "      <td>62.000000</td>\n",
       "      <td>21.000000</td>\n",
       "      <td>76.250000</td>\n",
       "      <td>28.325000</td>\n",
       "      <td>0.270250</td>\n",
       "      <td>23.000000</td>\n",
       "      <td>0.000000</td>\n",
       "    </tr>\n",
       "    <tr>\n",
       "      <th>50%</th>\n",
       "      <td>2.000000</td>\n",
       "      <td>119.000000</td>\n",
       "      <td>70.000000</td>\n",
       "      <td>29.000000</td>\n",
       "      <td>125.000000</td>\n",
       "      <td>33.200000</td>\n",
       "      <td>0.449500</td>\n",
       "      <td>27.000000</td>\n",
       "      <td>0.000000</td>\n",
       "    </tr>\n",
       "    <tr>\n",
       "      <th>75%</th>\n",
       "      <td>5.000000</td>\n",
       "      <td>143.000000</td>\n",
       "      <td>78.000000</td>\n",
       "      <td>36.750000</td>\n",
       "      <td>190.000000</td>\n",
       "      <td>37.075000</td>\n",
       "      <td>0.687000</td>\n",
       "      <td>36.000000</td>\n",
       "      <td>1.000000</td>\n",
       "    </tr>\n",
       "    <tr>\n",
       "      <th>max</th>\n",
       "      <td>17.000000</td>\n",
       "      <td>198.000000</td>\n",
       "      <td>110.000000</td>\n",
       "      <td>63.000000</td>\n",
       "      <td>846.000000</td>\n",
       "      <td>67.100000</td>\n",
       "      <td>2.420000</td>\n",
       "      <td>81.000000</td>\n",
       "      <td>1.000000</td>\n",
       "    </tr>\n",
       "  </tbody>\n",
       "</table>\n",
       "</div>"
      ],
      "text/plain": [
       "       Pregnancies     Glucose  BloodPressure  SkinThickness     Insulin  \\\n",
       "count   394.000000  394.000000     394.000000     394.000000  394.000000   \n",
       "mean      3.286802  122.304569      70.654822      29.106599  155.548223   \n",
       "std       3.209635   31.396725      12.469919      10.504273  118.775855   \n",
       "min       0.000000    0.000000      24.000000       7.000000   14.000000   \n",
       "25%       1.000000   99.000000      62.000000      21.000000   76.250000   \n",
       "50%       2.000000  119.000000      70.000000      29.000000  125.000000   \n",
       "75%       5.000000  143.000000      78.000000      36.750000  190.000000   \n",
       "max      17.000000  198.000000     110.000000      63.000000  846.000000   \n",
       "\n",
       "              BMI  DiabetesPedigreeFunction         Age     Outcome  \n",
       "count  394.000000                394.000000  394.000000  394.000000  \n",
       "mean    32.988579                  0.525543   30.814721    0.329949  \n",
       "std      7.210160                  0.350127   10.198971    0.470792  \n",
       "min      0.000000                  0.085000   21.000000    0.000000  \n",
       "25%     28.325000                  0.270250   23.000000    0.000000  \n",
       "50%     33.200000                  0.449500   27.000000    0.000000  \n",
       "75%     37.075000                  0.687000   36.000000    1.000000  \n",
       "max     67.100000                  2.420000   81.000000    1.000000  "
      ]
     },
     "execution_count": 17,
     "metadata": {},
     "output_type": "execute_result"
    }
   ],
   "source": [
    "# Those rows with a meaningful Insulin value\n",
    "diab[diab['Insulin'] != 0].describe()"
   ]
  },
  {
   "cell_type": "code",
   "execution_count": 20,
   "id": "51308d94",
   "metadata": {},
   "outputs": [
    {
     "name": "stdout",
     "output_type": "stream",
     "text": [
      "Pregnancies                  54\n",
      "Glucose                       4\n",
      "BloodPressure                35\n",
      "SkinThickness               227\n",
      "Insulin                     374\n",
      "BMI                          10\n",
      "DiabetesPedigreeFunction      0\n",
      "Age                           0\n",
      "Outcome                     236\n",
      "dtype: int64\n"
     ]
    }
   ],
   "source": [
    "# Make a new df of Insulin == 0 only to see if it's generally bad with missing values\n",
    "zeroInsulin = diab[diab['Insulin'] == 0]\n",
    "# Count the number of 0 values in each column\n",
    "zeroInsulin_counts = (zeroInsulin == 0).sum()\n",
    "\n",
    "# Print the counts\n",
    "print(zeroInsulin_counts)"
   ]
  },
  {
   "cell_type": "code",
   "execution_count": 22,
   "id": "f2ae0443",
   "metadata": {},
   "outputs": [
    {
     "name": "stdout",
     "output_type": "stream",
     "text": [
      "Pregnancies                  57\n",
      "Glucose                       1\n",
      "BloodPressure                 0\n",
      "SkinThickness                 0\n",
      "Insulin                       0\n",
      "BMI                           1\n",
      "DiabetesPedigreeFunction      0\n",
      "Age                           0\n",
      "Outcome                     264\n",
      "dtype: int64\n"
     ]
    }
   ],
   "source": [
    "# Now compare to dataframe of only Insulin > 0 rows\n",
    "realInsulin = diab[diab['Insulin'] > 0]\n",
    "# Count the number of 0 values in each column\n",
    "realInsulin_counts = (realInsulin == 0).sum()\n",
    "\n",
    "# Print the counts\n",
    "print(realInsulin_counts)"
   ]
  },
  {
   "cell_type": "code",
   "execution_count": 26,
   "id": "1898c394",
   "metadata": {},
   "outputs": [
    {
     "name": "stdout",
     "output_type": "stream",
     "text": [
      "Pregnancies                  56\n",
      "Glucose                       0\n",
      "BloodPressure                 0\n",
      "SkinThickness                 0\n",
      "Insulin                       0\n",
      "BMI                           0\n",
      "DiabetesPedigreeFunction      0\n",
      "Age                           0\n",
      "Outcome                     262\n",
      "dtype: int64\n"
     ]
    }
   ],
   "source": [
    "realInsulin = realInsulin[(realInsulin['Glucose'] != 0) & (realInsulin['BMI'] != 0)]\n",
    "# Count the number of 0 values in each amended column\n",
    "realInsulin_counts = (realInsulin == 0).sum()\n",
    "print(realInsulin_counts)"
   ]
  },
  {
   "cell_type": "code",
   "execution_count": 10,
   "id": "3c9de0e1",
   "metadata": {},
   "outputs": [
    {
     "name": "stdout",
     "output_type": "stream",
     "text": [
      "Pregnancies                 0\n",
      "Glucose                     0\n",
      "BloodPressure               0\n",
      "SkinThickness               0\n",
      "Insulin                     0\n",
      "BMI                         0\n",
      "DiabetesPedigreeFunction    0\n",
      "Age                         0\n",
      "Outcome                     0\n",
      "dtype: int64\n"
     ]
    }
   ],
   "source": [
    "null_counts = diab.isnull().sum()\n",
    "print(null_counts)"
   ]
  },
  {
   "cell_type": "code",
   "execution_count": 23,
   "id": "c9f285bb",
   "metadata": {},
   "outputs": [
    {
     "data": {
      "text/html": [
       "<div>\n",
       "<style scoped>\n",
       "    .dataframe tbody tr th:only-of-type {\n",
       "        vertical-align: middle;\n",
       "    }\n",
       "\n",
       "    .dataframe tbody tr th {\n",
       "        vertical-align: top;\n",
       "    }\n",
       "\n",
       "    .dataframe thead th {\n",
       "        text-align: right;\n",
       "    }\n",
       "</style>\n",
       "<table border=\"1\" class=\"dataframe\">\n",
       "  <thead>\n",
       "    <tr style=\"text-align: right;\">\n",
       "      <th></th>\n",
       "      <th>Pregnancies</th>\n",
       "      <th>Glucose</th>\n",
       "      <th>BloodPressure</th>\n",
       "      <th>SkinThickness</th>\n",
       "      <th>Insulin</th>\n",
       "      <th>BMI</th>\n",
       "      <th>DiabetesPedigreeFunction</th>\n",
       "      <th>Age</th>\n",
       "      <th>Outcome</th>\n",
       "    </tr>\n",
       "  </thead>\n",
       "  <tbody>\n",
       "    <tr>\n",
       "      <th>count</th>\n",
       "      <td>394.000000</td>\n",
       "      <td>394.000000</td>\n",
       "      <td>394.000000</td>\n",
       "      <td>394.000000</td>\n",
       "      <td>394.000000</td>\n",
       "      <td>394.000000</td>\n",
       "      <td>394.000000</td>\n",
       "      <td>394.000000</td>\n",
       "      <td>394.000000</td>\n",
       "    </tr>\n",
       "    <tr>\n",
       "      <th>mean</th>\n",
       "      <td>3.286802</td>\n",
       "      <td>122.304569</td>\n",
       "      <td>70.654822</td>\n",
       "      <td>29.106599</td>\n",
       "      <td>155.548223</td>\n",
       "      <td>32.988579</td>\n",
       "      <td>0.525543</td>\n",
       "      <td>30.814721</td>\n",
       "      <td>0.329949</td>\n",
       "    </tr>\n",
       "    <tr>\n",
       "      <th>std</th>\n",
       "      <td>3.209635</td>\n",
       "      <td>31.396725</td>\n",
       "      <td>12.469919</td>\n",
       "      <td>10.504273</td>\n",
       "      <td>118.775855</td>\n",
       "      <td>7.210160</td>\n",
       "      <td>0.350127</td>\n",
       "      <td>10.198971</td>\n",
       "      <td>0.470792</td>\n",
       "    </tr>\n",
       "    <tr>\n",
       "      <th>min</th>\n",
       "      <td>0.000000</td>\n",
       "      <td>0.000000</td>\n",
       "      <td>24.000000</td>\n",
       "      <td>7.000000</td>\n",
       "      <td>14.000000</td>\n",
       "      <td>0.000000</td>\n",
       "      <td>0.085000</td>\n",
       "      <td>21.000000</td>\n",
       "      <td>0.000000</td>\n",
       "    </tr>\n",
       "    <tr>\n",
       "      <th>25%</th>\n",
       "      <td>1.000000</td>\n",
       "      <td>99.000000</td>\n",
       "      <td>62.000000</td>\n",
       "      <td>21.000000</td>\n",
       "      <td>76.250000</td>\n",
       "      <td>28.325000</td>\n",
       "      <td>0.270250</td>\n",
       "      <td>23.000000</td>\n",
       "      <td>0.000000</td>\n",
       "    </tr>\n",
       "    <tr>\n",
       "      <th>50%</th>\n",
       "      <td>2.000000</td>\n",
       "      <td>119.000000</td>\n",
       "      <td>70.000000</td>\n",
       "      <td>29.000000</td>\n",
       "      <td>125.000000</td>\n",
       "      <td>33.200000</td>\n",
       "      <td>0.449500</td>\n",
       "      <td>27.000000</td>\n",
       "      <td>0.000000</td>\n",
       "    </tr>\n",
       "    <tr>\n",
       "      <th>75%</th>\n",
       "      <td>5.000000</td>\n",
       "      <td>143.000000</td>\n",
       "      <td>78.000000</td>\n",
       "      <td>36.750000</td>\n",
       "      <td>190.000000</td>\n",
       "      <td>37.075000</td>\n",
       "      <td>0.687000</td>\n",
       "      <td>36.000000</td>\n",
       "      <td>1.000000</td>\n",
       "    </tr>\n",
       "    <tr>\n",
       "      <th>max</th>\n",
       "      <td>17.000000</td>\n",
       "      <td>198.000000</td>\n",
       "      <td>110.000000</td>\n",
       "      <td>63.000000</td>\n",
       "      <td>846.000000</td>\n",
       "      <td>67.100000</td>\n",
       "      <td>2.420000</td>\n",
       "      <td>81.000000</td>\n",
       "      <td>1.000000</td>\n",
       "    </tr>\n",
       "  </tbody>\n",
       "</table>\n",
       "</div>"
      ],
      "text/plain": [
       "       Pregnancies     Glucose  BloodPressure  SkinThickness     Insulin  \\\n",
       "count   394.000000  394.000000     394.000000     394.000000  394.000000   \n",
       "mean      3.286802  122.304569      70.654822      29.106599  155.548223   \n",
       "std       3.209635   31.396725      12.469919      10.504273  118.775855   \n",
       "min       0.000000    0.000000      24.000000       7.000000   14.000000   \n",
       "25%       1.000000   99.000000      62.000000      21.000000   76.250000   \n",
       "50%       2.000000  119.000000      70.000000      29.000000  125.000000   \n",
       "75%       5.000000  143.000000      78.000000      36.750000  190.000000   \n",
       "max      17.000000  198.000000     110.000000      63.000000  846.000000   \n",
       "\n",
       "              BMI  DiabetesPedigreeFunction         Age     Outcome  \n",
       "count  394.000000                394.000000  394.000000  394.000000  \n",
       "mean    32.988579                  0.525543   30.814721    0.329949  \n",
       "std      7.210160                  0.350127   10.198971    0.470792  \n",
       "min      0.000000                  0.085000   21.000000    0.000000  \n",
       "25%     28.325000                  0.270250   23.000000    0.000000  \n",
       "50%     33.200000                  0.449500   27.000000    0.000000  \n",
       "75%     37.075000                  0.687000   36.000000    1.000000  \n",
       "max     67.100000                  2.420000   81.000000    1.000000  "
      ]
     },
     "execution_count": 23,
     "metadata": {},
     "output_type": "execute_result"
    }
   ],
   "source": [
    "realInsulin.describe()"
   ]
  },
  {
   "cell_type": "code",
   "execution_count": 71,
   "id": "35886423",
   "metadata": {},
   "outputs": [
    {
     "data": {
      "image/png": "[encoded data removed]",
      "text/plain": [
       "<Figure size 1000x800 with 2 Axes>"
      ]
     },
     "metadata": {},
     "output_type": "display_data"
    }
   ],
   "source": [
    "# Generate the correlation matrix\n",
    "correlation_matrix = realInsulin.corr()\n",
    "\n",
    "# print(correlation_matrix)\n",
    "\n",
    "import seaborn as sns\n",
    "import matplotlib.pyplot as plt\n",
    "# Create the correlation heatmap using seaborn\n",
    "plt.figure(figsize=(10, 8))  # Set the size of the heatmap\n",
    "sns.heatmap(correlation_matrix, annot=True, cmap='coolwarm')\n",
    "\n",
    "# Customize the plot\n",
    "plt.title('Correlation Heatmap')\n",
    "plt.xticks(rotation=45)\n",
    "plt.yticks(rotation=0)\n",
    "plt.show()"
   ]
  },
  {
   "cell_type": "code",
   "execution_count": null,
   "id": "249b95bd",
   "metadata": {},
   "outputs": [],
   "source": []
  },
  {
   "cell_type": "code",
   "execution_count": null,
   "id": "0b8c8312",
   "metadata": {},
   "outputs": [],
   "source": []
  },
  {
   "attachments": {},
   "cell_type": "markdown",
   "id": "29a9ddd5",
   "metadata": {},
   "source": [
    "# Part II : Preprocessing & Feature Engineering"
   ]
  },
  {
   "attachments": {},
   "cell_type": "markdown",
   "id": "0efa25cc",
   "metadata": {},
   "source": [
    "You need to perform preprocessing on the given dataset. Please consider the following tasks and carry out the necessary steps accordingly.\n",
    "- Handling missing values\n",
    "- Handling outliers\n",
    "- Scaling and normalization\n",
    "- Feature Engineering\n",
    "- Handling imbalanced data"
   ]
  },
  {
   "cell_type": "code",
   "execution_count": 29,
   "id": "c2e6a555",
   "metadata": {},
   "outputs": [
    {
     "data": {
      "text/html": [
       "<div>\n",
       "<style scoped>\n",
       "    .dataframe tbody tr th:only-of-type {\n",
       "        vertical-align: middle;\n",
       "    }\n",
       "\n",
       "    .dataframe tbody tr th {\n",
       "        vertical-align: top;\n",
       "    }\n",
       "\n",
       "    .dataframe thead th {\n",
       "        text-align: right;\n",
       "    }\n",
       "</style>\n",
       "<table border=\"1\" class=\"dataframe\">\n",
       "  <thead>\n",
       "    <tr style=\"text-align: right;\">\n",
       "      <th></th>\n",
       "      <th>Pregnancies</th>\n",
       "      <th>Glucose</th>\n",
       "      <th>BloodPressure</th>\n",
       "      <th>SkinThickness</th>\n",
       "      <th>Insulin</th>\n",
       "      <th>BMI</th>\n",
       "      <th>DiabetesPedigreeFunction</th>\n",
       "      <th>Age</th>\n",
       "      <th>Outcome</th>\n",
       "    </tr>\n",
       "  </thead>\n",
       "  <tbody>\n",
       "    <tr>\n",
       "      <th>count</th>\n",
       "      <td>392.000000</td>\n",
       "      <td>392.000000</td>\n",
       "      <td>392.000000</td>\n",
       "      <td>392.000000</td>\n",
       "      <td>392.000000</td>\n",
       "      <td>392.000000</td>\n",
       "      <td>392.000000</td>\n",
       "      <td>392.000000</td>\n",
       "      <td>392.000000</td>\n",
       "    </tr>\n",
       "    <tr>\n",
       "      <th>mean</th>\n",
       "      <td>3.301020</td>\n",
       "      <td>122.627551</td>\n",
       "      <td>70.663265</td>\n",
       "      <td>29.145408</td>\n",
       "      <td>156.056122</td>\n",
       "      <td>33.086224</td>\n",
       "      <td>0.523046</td>\n",
       "      <td>30.864796</td>\n",
       "      <td>0.331633</td>\n",
       "    </tr>\n",
       "    <tr>\n",
       "      <th>std</th>\n",
       "      <td>3.211424</td>\n",
       "      <td>30.860781</td>\n",
       "      <td>12.496092</td>\n",
       "      <td>10.516424</td>\n",
       "      <td>118.841690</td>\n",
       "      <td>7.027659</td>\n",
       "      <td>0.345488</td>\n",
       "      <td>10.200777</td>\n",
       "      <td>0.471401</td>\n",
       "    </tr>\n",
       "    <tr>\n",
       "      <th>min</th>\n",
       "      <td>0.000000</td>\n",
       "      <td>56.000000</td>\n",
       "      <td>24.000000</td>\n",
       "      <td>7.000000</td>\n",
       "      <td>14.000000</td>\n",
       "      <td>18.200000</td>\n",
       "      <td>0.085000</td>\n",
       "      <td>21.000000</td>\n",
       "      <td>0.000000</td>\n",
       "    </tr>\n",
       "    <tr>\n",
       "      <th>25%</th>\n",
       "      <td>1.000000</td>\n",
       "      <td>99.000000</td>\n",
       "      <td>62.000000</td>\n",
       "      <td>21.000000</td>\n",
       "      <td>76.750000</td>\n",
       "      <td>28.400000</td>\n",
       "      <td>0.269750</td>\n",
       "      <td>23.000000</td>\n",
       "      <td>0.000000</td>\n",
       "    </tr>\n",
       "    <tr>\n",
       "      <th>50%</th>\n",
       "      <td>2.000000</td>\n",
       "      <td>119.000000</td>\n",
       "      <td>70.000000</td>\n",
       "      <td>29.000000</td>\n",
       "      <td>125.500000</td>\n",
       "      <td>33.200000</td>\n",
       "      <td>0.449500</td>\n",
       "      <td>27.000000</td>\n",
       "      <td>0.000000</td>\n",
       "    </tr>\n",
       "    <tr>\n",
       "      <th>75%</th>\n",
       "      <td>5.000000</td>\n",
       "      <td>143.000000</td>\n",
       "      <td>78.000000</td>\n",
       "      <td>37.000000</td>\n",
       "      <td>190.000000</td>\n",
       "      <td>37.100000</td>\n",
       "      <td>0.687000</td>\n",
       "      <td>36.000000</td>\n",
       "      <td>1.000000</td>\n",
       "    </tr>\n",
       "    <tr>\n",
       "      <th>max</th>\n",
       "      <td>17.000000</td>\n",
       "      <td>198.000000</td>\n",
       "      <td>110.000000</td>\n",
       "      <td>63.000000</td>\n",
       "      <td>846.000000</td>\n",
       "      <td>67.100000</td>\n",
       "      <td>2.420000</td>\n",
       "      <td>81.000000</td>\n",
       "      <td>1.000000</td>\n",
       "    </tr>\n",
       "  </tbody>\n",
       "</table>\n",
       "</div>"
      ],
      "text/plain": [
       "       Pregnancies     Glucose  BloodPressure  SkinThickness     Insulin  \\\n",
       "count   392.000000  392.000000     392.000000     392.000000  392.000000   \n",
       "mean      3.301020  122.627551      70.663265      29.145408  156.056122   \n",
       "std       3.211424   30.860781      12.496092      10.516424  118.841690   \n",
       "min       0.000000   56.000000      24.000000       7.000000   14.000000   \n",
       "25%       1.000000   99.000000      62.000000      21.000000   76.750000   \n",
       "50%       2.000000  119.000000      70.000000      29.000000  125.500000   \n",
       "75%       5.000000  143.000000      78.000000      37.000000  190.000000   \n",
       "max      17.000000  198.000000     110.000000      63.000000  846.000000   \n",
       "\n",
       "              BMI  DiabetesPedigreeFunction         Age     Outcome  \n",
       "count  392.000000                392.000000  392.000000  392.000000  \n",
       "mean    33.086224                  0.523046   30.864796    0.331633  \n",
       "std      7.027659                  0.345488   10.200777    0.471401  \n",
       "min     18.200000                  0.085000   21.000000    0.000000  \n",
       "25%     28.400000                  0.269750   23.000000    0.000000  \n",
       "50%     33.200000                  0.449500   27.000000    0.000000  \n",
       "75%     37.100000                  0.687000   36.000000    1.000000  \n",
       "max     67.100000                  2.420000   81.000000    1.000000  "
      ]
     },
     "execution_count": 29,
     "metadata": {},
     "output_type": "execute_result"
    }
   ],
   "source": [
    "realInsulin.describe()"
   ]
  },
  {
   "cell_type": "code",
   "execution_count": 38,
   "id": "a2c04b67",
   "metadata": {},
   "outputs": [
    {
     "name": "stdout",
     "output_type": "stream",
     "text": [
      "445    2.420\n",
      "228    2.329\n",
      "4      2.288\n",
      "370    2.137\n",
      "593    1.699\n",
      "395    1.600\n",
      "147    1.400\n",
      "308    1.391\n",
      "39     1.390\n",
      "259    1.353\n",
      "Name: DiabetesPedigreeFunction, dtype: float64\n"
     ]
    }
   ],
   "source": [
    "# Looking for Outliers\n",
    "top_10BMI = realInsulin['BMI'].nlargest(10)\n",
    "top_10Insulin = realInsulin['Insulin'].nlargest(10)\n",
    "top_10DPF = realInsulin['DiabetesPedigreeFunction'].nlargest(10)\n",
    "\n",
    "print(top_10DPF)"
   ]
  },
  {
   "cell_type": "code",
   "execution_count": 31,
   "id": "10b302d8",
   "metadata": {},
   "outputs": [],
   "source": [
    "import pandas as pd\n",
    "\n",
    "# Calculate the IQR and identify outliers\n",
    "Q1 = realInsulin.quantile(0.25)\n",
    "Q3 = realInsulin.quantile(0.75)\n",
    "IQR = Q3 - Q1\n",
    "\n",
    "# Identify outliers\n",
    "outliers = ((realInsulin < (Q1 - 1.5 * IQR)) | (realInsulin > (Q3 + 1.5 * IQR)))\n"
   ]
  },
  {
   "cell_type": "code",
   "execution_count": 36,
   "id": "eacf3f24",
   "metadata": {},
   "outputs": [
    {
     "data": {
      "text/plain": [
       "Pregnancies                 11\n",
       "Glucose                      0\n",
       "BloodPressure                7\n",
       "SkinThickness                1\n",
       "Insulin                     25\n",
       "BMI                          6\n",
       "DiabetesPedigreeFunction    12\n",
       "Age                         13\n",
       "Outcome                      0\n",
       "dtype: int64"
      ]
     },
     "execution_count": 36,
     "metadata": {},
     "output_type": "execute_result"
    }
   ],
   "source": [
    "# Finding outliers in each column. \n",
    "# But outliers can be of interest here, as their extreme values in some features might be important in predicting their row's Outcome value.\n",
    "outliers.describe()\n",
    "outliers_count = outliers.sum(axis=0)\n",
    "outliers_count\n"
   ]
  },
  {
   "cell_type": "code",
   "execution_count": 40,
   "id": "fbb806f7",
   "metadata": {},
   "outputs": [],
   "source": [
    "X = realInsulin.drop('Outcome', axis=1)\n",
    "y = realInsulin['Outcome']\n",
    "zX = zeroInsulin.drop('Outcome', axis=1)\n",
    "zy = zeroInsulin['Outcome']\n"
   ]
  },
  {
   "cell_type": "code",
   "execution_count": 41,
   "id": "32a0fce7",
   "metadata": {},
   "outputs": [],
   "source": [
    "# Scaling and Normalizing\n",
    "# Scaling for (non-ensemble) SVC method and Logistic Regression\n",
    "from sklearn.preprocessing import StandardScaler\n",
    "\n",
    "scaler = StandardScaler()\n",
    "scaled_RI = scaler.fit_transform(realInsulin)\n",
    "scaled_X = scaler.fit_transform(X)\n",
    "scaled_ZI = scaler.fit_transform(zeroInsulin)\n",
    "scaled_zX = scaler.fit_transform(zX)\n",
    "\n",
    "# from sklearn.preprocessing import MinMaxScaler\n",
    "\n",
    "# MMscaler = MinMaxScaler()\n",
    "# normalized_RI = scaler.fit_transform(realInsulin)\n",
    "# normalized_ZI = scaler.fit_transform(zeroInsulin)\n",
    "\n"
   ]
  },
  {
   "cell_type": "code",
   "execution_count": null,
   "id": "e32d414e",
   "metadata": {},
   "outputs": [],
   "source": []
  },
  {
   "cell_type": "code",
   "execution_count": 68,
   "id": "fc64d833",
   "metadata": {},
   "outputs": [],
   "source": [
    "# Export df files to see in Tableau\n",
    "realInsulin.to_csv(r'C:\\Career\\LighthouseLabs\\DataScience_Week9\\Supervised_Learning_Project\\realInsulin.csv', index=False)\n",
    "zeroInsulin.to_csv(r'C:\\Career\\LighthouseLabs\\DataScience_Week9\\Supervised_Learning_Project\\zeroInsulin.csv', index=False)\n",
    "\n",
    "# Tableau graphs: https://public.tableau.com/app/profile/aj.hammond/viz/DiabetesSupervisedLearningModel/InsulinxGlucose?publish=yes"
   ]
  },
  {
   "cell_type": "code",
   "execution_count": null,
   "id": "60f566c9",
   "metadata": {},
   "outputs": [],
   "source": []
  },
  {
   "attachments": {},
   "cell_type": "markdown",
   "id": "5702ddcf",
   "metadata": {},
   "source": [
    "# Part III : Training ML Model"
   ]
  },
  {
   "attachments": {},
   "cell_type": "markdown",
   "id": "ecca0ccc",
   "metadata": {},
   "source": [
    "For this task, you are required to build a machine learning model to predict the outcome variable. This will be a binary classification task, as the target variable is binary. You should select at least two models, one of which should be an ensemble model, and compare their performance.\n",
    "\n",
    "- Train the models: Train the selected models on the training set.\n",
    "- Model evaluation: Evaluate the trained models on the testing set using appropriate evaluation metrics, such as accuracy, precision, recall, F1-score, and ROC-AUC.\n",
    "- Model comparison: Compare the performance of the selected models and choose the best-performing model based on the evaluation metrics. You can also perform additional analysis, such as model tuning and cross-validation, to improve the model's performance."
   ]
  },
  {
   "cell_type": "code",
   "execution_count": null,
   "id": "c08c664d",
   "metadata": {},
   "outputs": [],
   "source": []
  },
  {
   "cell_type": "code",
   "execution_count": 42,
   "id": "1cb06aff",
   "metadata": {},
   "outputs": [],
   "source": [
    "# Import train_test_split function\n",
    "from sklearn.model_selection import train_test_split\n",
    "\n",
    "# Split dataset into 70% training set and 30% test set\n",
    "X_train, X_test, y_train, y_test = train_test_split(scaled_X, y, test_size=0.3,random_state=109)\n"
   ]
  },
  {
   "cell_type": "code",
   "execution_count": 43,
   "id": "b02edc8e",
   "metadata": {},
   "outputs": [],
   "source": [
    "# Ensemble Method: Random Forest\n",
    "from sklearn.ensemble import RandomForestClassifier\n",
    "\n",
    "# Create an instance of the Random Forest classifier\n",
    "rf_classifier = RandomForestClassifier(n_estimators=100)\n",
    "\n",
    "# Fit the model to your training data\n",
    "rf_classifier.fit(X_train, y_train)\n",
    "\n",
    "# Make predictions on new data\n",
    "y_pred = rf_classifier.predict(X_test)\n"
   ]
  },
  {
   "cell_type": "code",
   "execution_count": 44,
   "id": "39675d6b",
   "metadata": {},
   "outputs": [
    {
     "name": "stdout",
     "output_type": "stream",
     "text": [
      "Confusion Matrix:\n",
      "[[71  7]\n",
      " [14 26]]\n"
     ]
    }
   ],
   "source": [
    "# Random Forest Confusion Matrix\n",
    "from sklearn.metrics import confusion_matrix\n",
    "cm_RF = confusion_matrix(y_test, y_pred)\n",
    "print(\"Confusion Matrix:\")\n",
    "print(cm_RF)"
   ]
  },
  {
   "cell_type": "code",
   "execution_count": 45,
   "id": "01e9fd8f",
   "metadata": {},
   "outputs": [
    {
     "name": "stdout",
     "output_type": "stream",
     "text": [
      "RF Accuracy: 0.8220338983050848\n",
      "RF Precision: 0.7878787878787878\n",
      "RF Recall: 0.65\n"
     ]
    }
   ],
   "source": [
    "# Random Forest evaluation metrics\n",
    "#Import scikit-learn metrics module for accuracy calculation\n",
    "from sklearn import metrics\n",
    "\n",
    "# Model Accuracy: how often is the classifier correct?\n",
    "print(\"RF Accuracy:\",metrics.accuracy_score(y_test, y_pred))\n",
    "\n",
    "# Model Precision: what percentage of positive tuples are labeled as such?\n",
    "print(\"RF Precision:\",metrics.precision_score(y_test, y_pred))\n",
    "\n",
    "# Model Recall: what percentage of positive tuples are labelled as such?\n",
    "print(\"RF Recall:\",metrics.recall_score(y_test, y_pred))\n"
   ]
  },
  {
   "cell_type": "code",
   "execution_count": 61,
   "id": "e9647f85",
   "metadata": {},
   "outputs": [
    {
     "data": {
      "image/png": "[encoded data removed]",
      "text/plain": [
       "<Figure size 640x480 with 1 Axes>"
      ]
     },
     "metadata": {},
     "output_type": "display_data"
    }
   ],
   "source": [
    "# Random Forest ROC curve\n",
    "\n",
    "# Get the predicted probabilities for the positive class\n",
    "y_pred_proba_rf = rf_classifier.predict_proba(X_test)[:, 1]\n",
    "\n",
    "# Calculate the FPR, TPR, and thresholds for the ROC curve\n",
    "fpr, tpr, thresholds = roc_curve(y_test, y_pred_proba_rf)\n",
    "\n",
    "# Calculate the AUC (Area Under the Curve) score\n",
    "auc_score = roc_auc_score(y_test, y_pred_proba_rf)\n",
    "\n",
    "# Plot the ROC curve\n",
    "plt.plot(fpr, tpr, label=f'ROC curve (AUC = {auc_score:.2f})')\n",
    "plt.plot([0, 1], [0, 1], 'k--')  # Diagonal line for random classifier\n",
    "plt.xlabel('False Positive Rate')\n",
    "plt.ylabel('True Positive Rate')\n",
    "plt.title('Receiver Operating Characteristic')\n",
    "plt.legend()\n",
    "plt.show()\n"
   ]
  },
  {
   "cell_type": "code",
   "execution_count": 64,
   "id": "ec56638b",
   "metadata": {},
   "outputs": [],
   "source": [
    "# SVC RBF\n",
    "#Import svm model\n",
    "from sklearn import svm\n",
    "\n",
    "#Create a svm Classifier\n",
    "from sklearn.svm import SVC\n",
    "svcrbf = SVC(kernel='rbf', probability=True)\n",
    "\n",
    "#Train the model using the training sets\n",
    "svcrbf.fit(X_train, y_train)\n",
    "\n",
    "#Predict the response for test dataset\n",
    "rbfy_pred = svcrbf.predict(X_test)\n"
   ]
  },
  {
   "cell_type": "code",
   "execution_count": 50,
   "id": "49694c73",
   "metadata": {},
   "outputs": [
    {
     "name": "stdout",
     "output_type": "stream",
     "text": [
      "RBF Confusion Matrix:\n",
      "[[70  8]\n",
      " [18 22]]\n"
     ]
    }
   ],
   "source": [
    "# SVM RBF Confusion Matrix\n",
    "cm_RBF = confusion_matrix(y_test, rbfy_pred)\n",
    "print(\"RBF Confusion Matrix:\")\n",
    "print(cm_RBF)"
   ]
  },
  {
   "cell_type": "code",
   "execution_count": 49,
   "id": "18720bde",
   "metadata": {},
   "outputs": [
    {
     "name": "stdout",
     "output_type": "stream",
     "text": [
      "RF Accuracy: 0.7796610169491526\n",
      "RF Precision: 0.7333333333333333\n",
      "RF Recall: 0.55\n"
     ]
    }
   ],
   "source": [
    "# SVM RBF evaluation metrics\n",
    "\n",
    "# Model Accuracy: how often is the classifier correct?\n",
    "print(\"RF Accuracy:\",metrics.accuracy_score(y_test, rbfy_pred))\n",
    "\n",
    "# Model Precision: what percentage of positive tuples are labeled as such?\n",
    "print(\"RF Precision:\",metrics.precision_score(y_test, rbfy_pred))\n",
    "\n",
    "# Model Recall: what percentage of positive tuples are labelled as such?\n",
    "print(\"RF Recall:\",metrics.recall_score(y_test, rbfy_pred))"
   ]
  },
  {
   "cell_type": "code",
   "execution_count": 65,
   "id": "8cd13065",
   "metadata": {},
   "outputs": [
    {
     "data": {
      "image/png": "[encoded data removed]",
      "text/plain": [
       "<Figure size 640x480 with 1 Axes>"
      ]
     },
     "metadata": {},
     "output_type": "display_data"
    }
   ],
   "source": [
    "# RBF SVM ROC curve\n",
    "# Get the predicted probabilities for the positive class\n",
    "y_pred_proba_rbf = svcrbf.predict_proba(X_test)[:, 1]\n",
    "\n",
    "# Calculate the FPR, TPR, and thresholds for the ROC curve\n",
    "fpr, tpr, thresholds = roc_curve(y_test, y_pred_proba_rbf)\n",
    "\n",
    "# Calculate the AUC (Area Under the Curve) score\n",
    "auc_score = roc_auc_score(y_test, y_pred_proba_rbf)\n",
    "\n",
    "# Plot the ROC curve\n",
    "plt.plot(fpr, tpr, label=f'ROC curve (AUC = {auc_score:.2f})')\n",
    "plt.plot([0, 1], [0, 1], 'k--')  # Diagonal line for random classifier\n",
    "plt.xlabel('False Positive Rate')\n",
    "plt.ylabel('True Positive Rate')\n",
    "plt.title('Receiver Operating Characteristic')\n",
    "plt.legend()\n",
    "plt.show()\n"
   ]
  },
  {
   "cell_type": "code",
   "execution_count": null,
   "id": "bc005138",
   "metadata": {},
   "outputs": [],
   "source": []
  },
  {
   "cell_type": "code",
   "execution_count": 75,
   "id": "41fb29cc",
   "metadata": {},
   "outputs": [
    {
     "name": "stderr",
     "output_type": "stream",
     "text": [
      "c:\\Users\\User\\anaconda3\\envs\\thisone\\lib\\site-packages\\sklearn\\linear_model\\_logistic.py:1173: FutureWarning: `penalty='none'`has been deprecated in 1.2 and will be removed in 1.4. To keep the past behaviour, set `penalty=None`.\n",
      "  warnings.warn(\n"
     ]
    },
    {
     "data": {
      "text/html": [
       "<style>#sk-container-id-3 {color: black;background-color: white;}#sk-container-id-3 pre{padding: 0;}#sk-container-id-3 div.sk-toggleable {background-color: white;}#sk-container-id-3 label.sk-toggleable__label {cursor: pointer;display: block;width: 100%;margin-bottom: 0;padding: 0.3em;box-sizing: border-box;text-align: center;}#sk-container-id-3 label.sk-toggleable__label-arrow:before {content: \"▸\";float: left;margin-right: 0.25em;color: #696969;}#sk-container-id-3 label.sk-toggleable__label-arrow:hover:before {color: black;}#sk-container-id-3 div.sk-estimator:hover label.sk-toggleable__label-arrow:before {color: black;}#sk-container-id-3 div.sk-toggleable__content {max-height: 0;max-width: 0;overflow: hidden;text-align: left;background-color: #f0f8ff;}#sk-container-id-3 div.sk-toggleable__content pre {margin: 0.2em;color: black;border-radius: 0.25em;background-color: #f0f8ff;}#sk-container-id-3 input.sk-toggleable__control:checked~div.sk-toggleable__content {max-height: 200px;max-width: 100%;overflow: auto;}#sk-container-id-3 input.sk-toggleable__control:checked~label.sk-toggleable__label-arrow:before {content: \"▾\";}#sk-container-id-3 div.sk-estimator input.sk-toggleable__control:checked~label.sk-toggleable__label {background-color: #d4ebff;}#sk-container-id-3 div.sk-label input.sk-toggleable__control:checked~label.sk-toggleable__label {background-color: #d4ebff;}#sk-container-id-3 input.sk-hidden--visually {border: 0;clip: rect(1px 1px 1px 1px);clip: rect(1px, 1px, 1px, 1px);height: 1px;margin: -1px;overflow: hidden;padding: 0;position: absolute;width: 1px;}#sk-container-id-3 div.sk-estimator {font-family: monospace;background-color: #f0f8ff;border: 1px dotted black;border-radius: 0.25em;box-sizing: border-box;margin-bottom: 0.5em;}#sk-container-id-3 div.sk-estimator:hover {background-color: #d4ebff;}#sk-container-id-3 div.sk-parallel-item::after {content: \"\";width: 100%;border-bottom: 1px solid gray;flex-grow: 1;}#sk-container-id-3 div.sk-label:hover label.sk-toggleable__label {background-color: #d4ebff;}#sk-container-id-3 div.sk-serial::before {content: \"\";position: absolute;border-left: 1px solid gray;box-sizing: border-box;top: 0;bottom: 0;left: 50%;z-index: 0;}#sk-container-id-3 div.sk-serial {display: flex;flex-direction: column;align-items: center;background-color: white;padding-right: 0.2em;padding-left: 0.2em;position: relative;}#sk-container-id-3 div.sk-item {position: relative;z-index: 1;}#sk-container-id-3 div.sk-parallel {display: flex;align-items: stretch;justify-content: center;background-color: white;position: relative;}#sk-container-id-3 div.sk-item::before, #sk-container-id-3 div.sk-parallel-item::before {content: \"\";position: absolute;border-left: 1px solid gray;box-sizing: border-box;top: 0;bottom: 0;left: 50%;z-index: -1;}#sk-container-id-3 div.sk-parallel-item {display: flex;flex-direction: column;z-index: 1;position: relative;background-color: white;}#sk-container-id-3 div.sk-parallel-item:first-child::after {align-self: flex-end;width: 50%;}#sk-container-id-3 div.sk-parallel-item:last-child::after {align-self: flex-start;width: 50%;}#sk-container-id-3 div.sk-parallel-item:only-child::after {width: 0;}#sk-container-id-3 div.sk-dashed-wrapped {border: 1px dashed gray;margin: 0 0.4em 0.5em 0.4em;box-sizing: border-box;padding-bottom: 0.4em;background-color: white;}#sk-container-id-3 div.sk-label label {font-family: monospace;font-weight: bold;display: inline-block;line-height: 1.2em;}#sk-container-id-3 div.sk-label-container {text-align: center;}#sk-container-id-3 div.sk-container {/* jupyter's `normalize.less` sets `[hidden] { display: none; }` but bootstrap.min.css set `[hidden] { display: none !important; }` so we also need the `!important` here to be able to override the default hidden behavior on the sphinx rendered scikit-learn.org. See: https://github.com/scikit-learn/scikit-learn/issues/21755 */display: inline-block !important;position: relative;}#sk-container-id-3 div.sk-text-repr-fallback {display: none;}</style><div id=\"sk-container-id-3\" class=\"sk-top-container\"><div class=\"sk-text-repr-fallback\"><pre>LogisticRegression(penalty=&#x27;none&#x27;)</pre><b>In a Jupyter environment, please rerun this cell to show the HTML representation or trust the notebook. <br />On GitHub, the HTML representation is unable to render, please try loading this page with nbviewer.org.</b></div><div class=\"sk-container\" hidden><div class=\"sk-item\"><div class=\"sk-estimator sk-toggleable\"><input class=\"sk-toggleable__control sk-hidden--visually\" id=\"sk-estimator-id-3\" type=\"checkbox\" checked><label for=\"sk-estimator-id-3\" class=\"sk-toggleable__label sk-toggleable__label-arrow\">LogisticRegression</label><div class=\"sk-toggleable__content\"><pre>LogisticRegression(penalty=&#x27;none&#x27;)</pre></div></div></div></div></div>"
      ],
      "text/plain": [
       "LogisticRegression(penalty='none')"
      ]
     },
     "execution_count": 75,
     "metadata": {},
     "output_type": "execute_result"
    }
   ],
   "source": [
    "from sklearn.linear_model import LogisticRegression\n",
    "from sklearn.metrics import log_loss, roc_auc_score, recall_score, precision_score, average_precision_score, f1_score, classification_report\n",
    "\n",
    "clf = LogisticRegression(penalty='none') # logistic regression with no penalty term in the cost function.\n",
    "\n",
    "clf.fit(X_train, y_train)"
   ]
  },
  {
   "cell_type": "code",
   "execution_count": 76,
   "id": "3fc006eb",
   "metadata": {},
   "outputs": [
    {
     "name": "stdout",
     "output_type": "stream",
     "text": [
      "Log Reg Confusion Matrix:\n",
      "[[71  7]\n",
      " [14 26]]\n"
     ]
    }
   ],
   "source": [
    "# Log Reg Confusion Matrix\n",
    "# Get the predicted probabilities for the positive class\n",
    "# Make predictions on the test set\n",
    "y_pred = clf.predict(X_test)\n",
    "\n",
    "# Generate the confusion matrix\n",
    "cm_clf = confusion_matrix(y_test, y_pred)\n",
    "\n",
    "print(\"Log Reg Confusion Matrix:\")\n",
    "print(cm_clf)"
   ]
  },
  {
   "cell_type": "code",
   "execution_count": 77,
   "id": "db7ef956",
   "metadata": {},
   "outputs": [
    {
     "name": "stdout",
     "output_type": "stream",
     "text": [
      "LR Accuracy: 0.8220338983050848\n",
      "LR Precision: 0.7878787878787878\n",
      "LR Recall: 0.65\n"
     ]
    }
   ],
   "source": [
    "# Logistic Regression evaluation metrics\n",
    "\n",
    "# Model Accuracy: how often is the classifier correct?\n",
    "print(\"LR Accuracy:\",metrics.accuracy_score(y_test, y_pred))\n",
    "\n",
    "# Model Precision: what percentage of positive tuples are labeled as such?\n",
    "print(\"LR Precision:\",metrics.precision_score(y_test, y_pred))\n",
    "\n",
    "# Model Recall: what percentage of positive tuples are labelled as such?\n",
    "print(\"LR Recall:\",metrics.recall_score(y_test, y_pred))\n",
    "### These numbers match the RF ones, so I believe they are incorrect and are using the RF predictions."
   ]
  },
  {
   "cell_type": "code",
   "execution_count": 57,
   "id": "079e7a9d",
   "metadata": {},
   "outputs": [
    {
     "data": {
      "image/png": "[encoded data removed]",
      "text/plain": [
       "<Figure size 640x480 with 1 Axes>"
      ]
     },
     "metadata": {},
     "output_type": "display_data"
    }
   ],
   "source": [
    "# Logistic Regression ROC curve\n",
    "import numpy as np\n",
    "import matplotlib.pyplot as plt\n",
    "from sklearn.metrics import roc_curve, roc_auc_score\n",
    "\n",
    "# Get the predicted probabilities for the positive class\n",
    "y_pred_proba_clf = clf.predict_proba(X_train)[:, 1]\n",
    "\n",
    "# Calculate the FPR, TPR, and thresholds for the ROC curve\n",
    "fpr, tpr, thresholds = roc_curve(y_train, y_pred_proba_clf)\n",
    "\n",
    "# Calculate the AUC (Area Under the Curve) score\n",
    "auc_score = roc_auc_score(y_train, y_pred_proba_clf)\n",
    "\n",
    "# Plot the ROC curve\n",
    "plt.plot(fpr, tpr, label=f'ROC curve (AUC = {auc_score:.2f})')\n",
    "plt.plot([0, 1], [0, 1], 'k--')  # Diagonal line for random classifier\n",
    "plt.xlabel('False Positive Rate')\n",
    "plt.ylabel('True Positive Rate')\n",
    "plt.title('Receiver Operating Characteristic')\n",
    "plt.legend()\n",
    "plt.show()\n"
   ]
  },
  {
   "cell_type": "code",
   "execution_count": null,
   "id": "371ca536",
   "metadata": {},
   "outputs": [],
   "source": []
  },
  {
   "attachments": {},
   "cell_type": "markdown",
   "id": "142ed923",
   "metadata": {},
   "source": [
    "# Part IV : Conclusion"
   ]
  },
  {
   "attachments": {},
   "cell_type": "markdown",
   "id": "8aaec134",
   "metadata": {},
   "source": [
    "From the machine learning models developed and the exploratory data analysis (EDA) conducted, generate four bullet points as your findings."
   ]
  },
  {
   "cell_type": "code",
   "execution_count": null,
   "id": "70263c25",
   "metadata": {},
   "outputs": [],
   "source": [
    "1) This dataset had many missing values that were rendered as zeros. These zeros distorted every descriptive statistic and would have affected any attempt at machine learning. There was also a very strong tendency for a false, impossible zero (no has zero for a blood-pressure reading, for example) in one column to be accompanied by false zeros in other columns, too. Generally, roughly 48% of the rows were missing multiple values. These missing values were of particular concern for the Insulin column as it is a value considered medically important in evaluating whether someone is diabetic or not, the outcome variable here.\n",
    "\n",
    "2) The correlation heat map revealed no decisively strong relationships, and the graphs of the features with the highest correlations (Insulin with Glucose and BMI with Skin Thickness)\n",
    "\n",
    "3) The ensemble method used here, Random Forest, resulted in the best evaluation metrics, from Accuracy to Precision to the ROC curve. Its multiple, parallel training does appear to have delivered a better model for making predictions about new data."
   ]
  },
  {
   "attachments": {},
   "cell_type": "markdown",
   "id": "b3e91439",
   "metadata": {},
   "source": [
    "1) This dataset had many missing values that were rendered as zeros. These zeros distorted every descriptive statistic and would have affected any attempt at machine learning. There was also a very strong tendency for a false, impossible zero (no has zero for a blood-pressure reading, for example) in one column to be accompanied by false zeros in other columns, too. Generally, roughly 48% of the rows were missing multiple values. These missing values were of particular concern for the Insulin column as it is a value considered medically important in evaluating whether someone is diabetic or not, the outcome variable here.\n",
    "\n",
    "2) The correlation heat map revealed no decisively strong relationships, and the graphs of the features with the highest correlations (Insulin with Glucose and BMI with Skin Thickness) filtered on Outcome status showed a great deal of overlap in those who are and are not diabetic. In the case of Glucose and Insulin, measures that are used as diagnostic criteria for diabetes, it is possible that repeated measures might be needed to better discriminate Outcome status.\n",
    "https://public.tableau.com/app/profile/aj.hammond/viz/DiabetesSupervisedLearningModel/InsulinxGlucose?publish=yes\n",
    "\n",
    "3) The ensemble method used here, Random Forest, resulted in the best evaluation metrics, from Accuracy (0.822) to Precision (0.788) to the ROC curve (0.89). Its multiple, parallel training does appear to have delivered a better model for making predictions about new data.\n",
    "\n",
    "4) The number of False Negatives from each method is arguably the single most important metric as a matter of clinical concern, as individuals who are truly diabetic but rated as not diabetic are the group most likely to suffer from the misclassification. The Random Forest performed best here, too.\n",
    "Future analysis would like to take this training and see how the rows with multiple missing values fare in predictions, as 36.9% of those rows are diabetic in the Outcome column. It would be interesting to see how well the model predicts this status with decidedly less information available."
   ]
  }
 ],
 "metadata": {
  "kernelspec": {
   "display_name": "thisone",
   "language": "python",
   "name": "thisone"
  },
  "language_info": {
   "codemirror_mode": {
    "name": "ipython",
    "version": 3
   },
   "file_extension": ".py",
   "mimetype": "text/x-python",
   "name": "python",
   "nbconvert_exporter": "python",
   "pygments_lexer": "ipython3",
   "version": "3.9.16"
  }
 },
 "nbformat": 4,
 "nbformat_minor": 5
}
